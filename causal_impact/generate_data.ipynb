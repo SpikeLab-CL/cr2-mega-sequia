{
 "cells": [
  {
   "cell_type": "code",
   "execution_count": 2,
   "metadata": {},
   "outputs": [],
   "source": [
    "import streamlit"
   ]
  },
  {
   "cell_type": "code",
   "execution_count": 1,
   "metadata": {},
   "outputs": [],
   "source": [
    "import pandas as pd\n",
    "import sys\n",
    "sys.path.append(\"src/\")\n",
    "from statsmodels.tsa.arima_process import ArmaProcess\n",
    "import numpy as np\n",
    "import streamlit as st\n",
    "from utils import myCausalImpact\n",
    "from utils import plotly_time_series\n",
    "\n",
    "np.random.seed(12345)\n",
    "\n"
   ]
  },
  {
   "cell_type": "code",
   "execution_count": 6,
   "metadata": {},
   "outputs": [],
   "source": [
    "\n",
    "\n",
    "def generate_data() -> pd.DataFrame:\n",
    "    n = 100\n",
    "    ar = np.r_[1, 0.9]\n",
    "    ma = np.array([1])\n",
    "    arma_process = ArmaProcess(ar, ma)\n",
    "    x1 = 100 + arma_process.generate_sample(nsample=n)\n",
    "    x2 = 115 + arma_process.generate_sample(nsample=n)\n",
    "    y = 1.2 * x1 -0.3*x2 + np.random.normal(size=n)\n",
    "    t = range(1, n + 1)\n",
    "    y[70:] += 5\n",
    "\n",
    "    data = pd.DataFrame({'y': y, 'x1': x1, 'x2': x2, 't': t})\n",
    "\n",
    "    return data\n",
    "\n",
    "example_data = generate_data() #type: ignore\n",
    "\n"
   ]
  },
  {
   "cell_type": "code",
   "execution_count": 7,
   "metadata": {},
   "outputs": [],
   "source": [
    "vars_to_plot = ['x1', 'y']\n",
    "\n",
    "time_var = \"t\"\n",
    "for plot_var in vars_to_plot:\n",
    "    fig = plotly_time_series(example_data, time_var, plot_var)\n",
    "\n",
    "\n",
    "x_vars = [col for col in example_data.columns if col != 'y']\n",
    "selected_x_vars = x_vars\n",
    "\n",
    "beg_pre_period = 1\n",
    "end_pre_period = 50\n",
    "beg_eval_period = 70\n",
    "end_eval_period = 99\n",
    "\n",
    "def estimate_model(df):\n",
    "    pre_period = [beg_pre_period, end_pre_period]\n",
    "    eval_period = [beg_eval_period, end_eval_period]\n",
    "    selected_x_vars_plus_target = ['y'] + selected_x_vars\n",
    "    ci = myCausalImpact(\n",
    "        df[selected_x_vars_plus_target], pre_period, eval_period)\n",
    "    return ci\n",
    "\n",
    "ci = estimate_model(example_data)"
   ]
  },
  {
   "cell_type": "code",
   "execution_count": 8,
   "metadata": {},
   "outputs": [
    {
     "data": {
      "text/plain": [
       "utils.myCausalImpact"
      ]
     },
     "execution_count": 8,
     "metadata": {},
     "output_type": "execute_result"
    }
   ],
   "source": [
    "type(ci)"
   ]
  },
  {
   "cell_type": "code",
   "execution_count": 25,
   "metadata": {},
   "outputs": [
    {
     "data": {
      "text/plain": [
       "['x1']"
      ]
     },
     "execution_count": 25,
     "metadata": {},
     "output_type": "execute_result"
    }
   ],
   "source": [
    "def get_n_most_important_vars(trained_c_impact, top_n: int):\n",
    "    params: pd.Series = trained_c_impact.trained_model.params\n",
    "    contains_beta = params.index.str.contains(\"beta\")\n",
    "    does_not_contain_t = params.index != \"beta.t\"\n",
    "    params = params[contains_beta & does_not_contain_t]\n",
    "    params = np.abs(params)\n",
    "    \n",
    "    top_n_vars = params.sort_values(ascending=False).index.values[:top_n]\n",
    "    \n",
    "    top_n_vars = [var.split(\".\")[1] for var in top_n_vars]\n",
    "    return top_n_vars\n",
    "\n",
    "top_n_vars = get_n_most_important_vars(ci, 1)\n",
    "top_n_vars"
   ]
  },
  {
   "cell_type": "code",
   "execution_count": 28,
   "metadata": {},
   "outputs": [
    {
     "data": {
      "text/plain": [
       "statsmodels.tsa.statespace.structural.UnobservedComponentsResultsWrapper"
      ]
     },
     "execution_count": 28,
     "metadata": {},
     "output_type": "execute_result"
    }
   ],
   "source": [
    "type(ci.trained_model)"
   ]
  },
  {
   "cell_type": "code",
   "execution_count": 2,
   "metadata": {},
   "outputs": [],
   "source": [
    "from utils import plotly_time_series, estimate_model, get_n_most_important_vars"
   ]
  },
  {
   "cell_type": "code",
   "execution_count": null,
   "metadata": {},
   "outputs": [],
   "source": []
  }
 ],
 "metadata": {
  "kernelspec": {
   "display_name": "Python [conda env:pipe_basico] *",
   "language": "python",
   "name": "conda-env-pipe_basico-py"
  },
  "language_info": {
   "codemirror_mode": {
    "name": "ipython",
    "version": 3
   },
   "file_extension": ".py",
   "mimetype": "text/x-python",
   "name": "python",
   "nbconvert_exporter": "python",
   "pygments_lexer": "ipython3",
   "version": "3.7.8"
  }
 },
 "nbformat": 4,
 "nbformat_minor": 4
}
