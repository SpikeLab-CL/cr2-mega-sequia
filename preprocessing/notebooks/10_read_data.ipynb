{
 "cells": [
  {
   "cell_type": "markdown",
   "metadata": {},
   "source": [
    "# 10_read_data\n",
    "\n",
    "## Descripción: qué se hace acá?\n",
    "\n",
    "## Dependencias:\n",
    "\n",
    "+ **Input**: \n",
    "\t+ datos:  *ubicación de datos de input*\n",
    "\t+ modelos: *ubicación de modelos de input*\n",
    "+ **Output**:\n",
    "\t+ datos: *ubicación de datos de ouput*\n",
    "\t+ modelos: *ubicación de modelos de output*\n"
   ]
  },
  {
   "cell_type": "code",
   "execution_count": 115,
   "metadata": {},
   "outputs": [
    {
     "name": "stderr",
     "output_type": "stream",
     "text": [
      "1it [00:04,  4.84s/it]\n"
     ]
    }
   ],
   "source": [
    "import pandas as pd\n",
    "\n",
    "df = pd.read_excel('../../data_raw/Cuadro_2.xls', skiprows=2)\n",
    "#borramos la primera fila porque tiene sólo el string: \"serie original\"\n",
    "df = df[1:]\n",
    "\n",
    "\n",
    "def nom_split(col_name: str):\n",
    "    if 'Ocupación' in col_name:\n",
    "        return 'Ocupación en '+ col_name.split(',')[1].strip() + ' INE'\n",
    "    elif 'Índice de producción industrial' in col_name:\n",
    "        return ' '.join(col_name.split(',')[0:-1]).strip()\n",
    "    else:\n",
    "        return col_name.split(',')[0].strip()\n",
    "\n",
    "def corregir_nombre(col_name : str):\n",
    "    nombre_reducido = nom_split(col_name)\n",
    "    return nombre_reducido.replace(' ','_').replace('PIB\\xa0\\xa0\\xa0','PIB_').replace('-','_').replace('.','').\\\n",
    "                           replace(';','').replace('(','').replace(')','').replace('/','').replace('ñ','').replace('=','_').\\\n",
    "                           replace('á','a').replace('é','e').replace('í','i').replace('ó','o').replace('ú','u').replace('Í','I')\n",
    "\n",
    "df.rename(columns=corregir_nombre, inplace=True)\n",
    "\n",
    "df.to_gbq(destination_table='economicas.datos_banco_central', project_id='cr2tech', if_exists='replace')"
   ]
  },
  {
   "cell_type": "code",
   "execution_count": null,
   "metadata": {},
   "outputs": [],
   "source": []
  }
 ],
 "metadata": {
  "kernelspec": {
   "display_name": "Python [conda env:spike_basicoV6] *",
   "language": "python",
   "name": "conda-env-spike_basicoV6-py"
  },
  "language_info": {
   "codemirror_mode": {
    "name": "ipython",
    "version": 3
   },
   "file_extension": ".py",
   "mimetype": "text/x-python",
   "name": "python",
   "nbconvert_exporter": "python",
   "pygments_lexer": "ipython3",
   "version": "3.6.11"
  }
 },
 "nbformat": 4,
 "nbformat_minor": 4
}
